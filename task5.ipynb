{
 "cells": [
  {
   "cell_type": "markdown",
   "metadata": {},
   "source": [
    "# Python基礎・データサイエンス\n",
    "### 【5】遺伝的アルゴリズムとは、システム内で⾃然淘汰に類似するシュミレーションを⾏い、最適解を近似的に求めるアルゴリズムである。このアルゴリズムを⽤いて、巡回セールスマン問題を解くプログラムをPythonで実装してみよう。"
   ]
  },
  {
   "cell_type": "code",
   "execution_count": 70,
   "metadata": {},
   "outputs": [
    {
     "data": {
      "text/plain": [
       "<matplotlib.collections.PathCollection at 0x7f7578ebec18>"
      ]
     },
     "execution_count": 70,
     "metadata": {},
     "output_type": "execute_result"
    },
    {
     "data": {
      "image/png": "[encoded data removed]",
      "text/plain": [
       "<Figure size 432x288 with 1 Axes>"
      ]
     },
     "metadata": {
      "needs_background": "light"
     },
     "output_type": "display_data"
    }
   ],
   "source": [
    "# 座標平面上の 0 ≦ x ≦ 10 , 0 ≦ y ≦10 の領域の格子点上にランダムにA~Zまでの26個の点を配置し、結果を可視化して保存せよ\n",
    "#（但し、全ての点の座標はそれぞれ異なるものとする）。\n",
    "import numpy as np\n",
    "import random as rd\n",
    "import pandas as pd\n",
    "import matplotlib.pyplot as plt\n",
    "\n",
    "arr = np.empty((26,2)) # row,column\n",
    "point = list(range(0, 121, 1))\n",
    "\n",
    "for num in range(0,26):\n",
    "    p = point.pop(rd.randint(0, len(point)-1))\n",
    "    arr[num,0] = p // 11\n",
    "    arr[num,1] = p % 11\n",
    "\n",
    "plt.grid(True)\n",
    "plt.xlabel(\"x\", fontsize=20)\n",
    "plt.ylabel(\"y\", fontsize=20)\n",
    "plt.scatter(arr[:,0], arr[:,1], s=30)"
   ]
  },
  {
   "cell_type": "code",
   "execution_count": 71,
   "metadata": {},
   "outputs": [],
   "source": [
    "# ② ①で作成した点の全てのペアについて距離を計算し、DataFrameにまとめてcsv形式で保存せよ。\n",
    "distance = []  # 距離の組み合わせを入れるリスト\n",
    "M=[i for i in range(26)]\n",
    "for i in range(25):\n",
    "    for i in range(13):\n",
    "        a = np.array([arr[M[0+i],0], arr[M[0+i],1]])\n",
    "        b = np.array([arr[M[-1-i],0], arr[M[-1-i],1]])\n",
    "        dist = np.linalg.norm(a-b)\n",
    "        \n",
    "        distance.append([M[0+i], a, M[-1-i], b, dist])\n",
    "        M = M[:1] + M[2:] + M[1:2] # 先頭を固定して１つずつずらす\n",
    "    \n",
    "# CSV ファイル (employee.csv) として出力\n",
    "feature = [\"point1\", \"a\", \"point2\", \"b\", \"distance\"]\n",
    "df = pd.DataFrame(distance, columns=feature)\n",
    "df.to_csv(\"distance.csv\")"
   ]
  },
  {
   "cell_type": "code",
   "execution_count": 72,
   "metadata": {},
   "outputs": [
    {
     "name": "stdout",
     "output_type": "stream",
     "text": [
      "4.0329146112660566e+24  秒\n"
     ]
    }
   ],
   "source": [
    "# 準備で作成した全ての点を⼀度だけ通る、最短の経路を⾒つけたい。この問題は、NP困難と呼ばれる最適化問題の典型的な例で、全てのパターンを網羅的に計算すると天⽂学的な計算量を要する。\n",
    "# ③ 全てのパターンを計算するのにどれほどの時間がかかるか、Pythonを⽤いて試算してみよ（⼀つの経路について距離を計算するのに0.01秒かかるものせよ）。\n",
    "import math\n",
    "\n",
    "print(math.factorial(26) * 0.01, \" 秒\" )"
   ]
  },
  {
   "cell_type": "code",
   "execution_count": 309,
   "metadata": {},
   "outputs": [],
   "source": [
    "# ④ 下記の流れに沿って、遺伝的アルゴリズムを⽤いて近似解を⽤いるスクリプトを実装せよ。\n",
    "# 4-1. 初期集団の⽣成\n",
    "# ランダムにＣ-Ａ-Ｄ-Ｂ… Ｂ-Ｄ-Ｃ-Ａ… Ａ-Ｃ-Ｄ-Ｂ… などと、決められた数の親を作成する\n",
    "def creat_first_data():\n",
    "    original = list(range(0, 26, 1))\n",
    "    data = []\n",
    "    for i in range(10): # 最初のデータ数\n",
    "        data.append(rd.sample(original, len(original)))\n",
    "    return data"
   ]
  },
  {
   "cell_type": "code",
   "execution_count": 291,
   "metadata": {},
   "outputs": [],
   "source": [
    "# 4-2. 適応度の評価\n",
    "# 上で作成された巡回ルートそれぞれの距離を算出する\n",
    "def evaluate_select(test_data, better_sum, better_sample, repeat):\n",
    "    num = 0\n",
    "    for l in range(len(test_data)): #sample分\n",
    "        sum = 0.0\n",
    "        for i in range(25):\n",
    "            a = df.loc[(df['point1'] == test_data[l][i]) & (df['point2'] == test_data[l][i+1]), 'distance']\n",
    "            b = df.loc[(df['point1'] == test_data[l][i+1]) & (df['point2'] == test_data[l][i]), 'distance']\n",
    "            if a.count() != 0:\n",
    "                sum += float(a)\n",
    "            else:\n",
    "                sum += float(b)\n",
    "# 4-3. 選択\n",
    "# 上で算出された巡回ルートの距離が短いものほど確率的に選択される可能性が高く、\n",
    "# 距離が長いものほど選択される可能性が少なくなるようにした上で、自然淘汰を模した選択を実施する\n",
    "        if float(better_sum[0]) > sum:\n",
    "            better_sample = list(test_data[l])\n",
    "            better_sum.insert(0,sum)\n",
    "            num += 1\n",
    "            repeat = 0\n",
    "    if num == 0:\n",
    "        repeat += 1\n",
    "    return list(better_sum), better_sample, repeat"
   ]
  },
  {
   "cell_type": "code",
   "execution_count": 302,
   "metadata": {},
   "outputs": [],
   "source": [
    "# 4-4. 交叉\n",
    "# 上で選択されたものと「似ている」子供を、選ばれた親から作成する（例えば、親と半分以上の\n",
    "# 順番を共有しているパターンを子供とする、など）\n",
    "def create_child(parent):\n",
    "    child = list(parent)\n",
    "    i = rd.randint(0, 12) # 変更する要素が何番目からか\n",
    "    n = rd.randint(1, 13) # 順番を共有しない要素数\n",
    "    child[i:i+n] = rd.sample(parent[i:i+n],n)\n",
    "    return child"
   ]
  },
  {
   "cell_type": "code",
   "execution_count": 313,
   "metadata": {},
   "outputs": [],
   "source": [
    "# 4-5. 突然変異\n",
    "# 上で作成されたルートの内、いくつかの順番をランダムに変える\n",
    "def mutate(child):\n",
    "    test_data = []\n",
    "    for i in range(10): # データ数\n",
    "        for l in range(rd.randint(1, 5)): # 順番を入れ替える回数\n",
    "            a = b = 0\n",
    "            while a == b:\n",
    "                a = rd.randint(0, 25)\n",
    "                b = rd.randint(0, 25)\n",
    "            child[a], child[b] = child[b], child[a]\n",
    "        test_data.append(list(child))\n",
    "    return test_data"
   ]
  },
  {
   "cell_type": "code",
   "execution_count": 314,
   "metadata": {},
   "outputs": [
    {
     "name": "stdout",
     "output_type": "stream",
     "text": [
      "***** FIRST LOOP ******\n",
      "([118.79987788553767, 132.85856650811434, 146.54792192590122, 999.9], [23, 1, 5, 0, 4, 18, 3, 13, 12, 24, 8, 17, 11, 2, 19, 15, 21, 7, 14, 9, 25, 6, 16, 22, 20, 10], 0)\n",
      "*****   LOOP ******\n",
      "([114.82855640549909, 116.89364558434374, 118.79987788553767, 132.85856650811434, 146.54792192590122, 999.9], [9, 20, 21, 2, 18, 23, 13, 10, 15, 17, 8, 14, 4, 7, 11, 5, 0, 19, 3, 25, 6, 24, 12, 1, 22, 16], 0)\n",
      "*****   LOOP ******\n",
      "([110.61149952713617, 112.88903056002137, 114.82855640549909, 116.89364558434374, 118.79987788553767, 132.85856650811434, 146.54792192590122, 999.9], [0, 6, 5, 11, 4, 23, 10, 14, 9, 20, 18, 19, 17, 8, 21, 7, 1, 13, 24, 15, 3, 25, 2, 22, 16, 12], 0)\n",
      "*****   LOOP ******\n",
      "([104.03475176207522, 110.61149952713617, 112.88903056002137, 114.82855640549909, 116.89364558434374, 118.79987788553767, 132.85856650811434, 146.54792192590122, 999.9], [14, 6, 5, 11, 10, 4, 9, 2, 16, 23, 1, 19, 17, 8, 13, 18, 7, 21, 24, 15, 3, 25, 20, 22, 0, 12], 0)\n",
      "*****   LOOP ******\n",
      "([104.03475176207522, 110.61149952713617, 112.88903056002137, 114.82855640549909, 116.89364558434374, 118.79987788553767, 132.85856650811434, 146.54792192590122, 999.9], [14, 6, 5, 11, 10, 4, 9, 2, 16, 23, 1, 19, 17, 8, 13, 18, 7, 21, 24, 15, 3, 25, 20, 22, 0, 12], 1)\n",
      "*****   LOOP ******\n",
      "([104.03475176207522, 110.61149952713617, 112.88903056002137, 114.82855640549909, 116.89364558434374, 118.79987788553767, 132.85856650811434, 146.54792192590122, 999.9], [14, 6, 5, 11, 10, 4, 9, 2, 16, 23, 1, 19, 17, 8, 13, 18, 7, 21, 24, 15, 3, 25, 20, 22, 0, 12], 2)\n",
      "*****   LOOP ******\n",
      "([104.03475176207522, 110.61149952713617, 112.88903056002137, 114.82855640549909, 116.89364558434374, 118.79987788553767, 132.85856650811434, 146.54792192590122, 999.9], [14, 6, 5, 11, 10, 4, 9, 2, 16, 23, 1, 19, 17, 8, 13, 18, 7, 21, 24, 15, 3, 25, 20, 22, 0, 12], 3)\n",
      "*****   LOOP ******\n",
      "([104.03475176207522, 110.61149952713617, 112.88903056002137, 114.82855640549909, 116.89364558434374, 118.79987788553767, 132.85856650811434, 146.54792192590122, 999.9], [14, 6, 5, 11, 10, 4, 9, 2, 16, 23, 1, 19, 17, 8, 13, 18, 7, 21, 24, 15, 3, 25, 20, 22, 0, 12], 4)\n",
      "*****   LOOP ******\n",
      "([104.03475176207522, 110.61149952713617, 112.88903056002137, 114.82855640549909, 116.89364558434374, 118.79987788553767, 132.85856650811434, 146.54792192590122, 999.9], [14, 6, 5, 11, 10, 4, 9, 2, 16, 23, 1, 19, 17, 8, 13, 18, 7, 21, 24, 15, 3, 25, 20, 22, 0, 12], 5)\n",
      "*****   LOOP ******\n",
      "([104.03475176207522, 110.61149952713617, 112.88903056002137, 114.82855640549909, 116.89364558434374, 118.79987788553767, 132.85856650811434, 146.54792192590122, 999.9], [14, 6, 5, 11, 10, 4, 9, 2, 16, 23, 1, 19, 17, 8, 13, 18, 7, 21, 24, 15, 3, 25, 20, 22, 0, 12], 6)\n",
      "*****   LOOP ******\n",
      "([104.03475176207522, 110.61149952713617, 112.88903056002137, 114.82855640549909, 116.89364558434374, 118.79987788553767, 132.85856650811434, 146.54792192590122, 999.9], [14, 6, 5, 11, 10, 4, 9, 2, 16, 23, 1, 19, 17, 8, 13, 18, 7, 21, 24, 15, 3, 25, 20, 22, 0, 12], 7)\n",
      "*****   LOOP ******\n",
      "([104.03475176207522, 110.61149952713617, 112.88903056002137, 114.82855640549909, 116.89364558434374, 118.79987788553767, 132.85856650811434, 146.54792192590122, 999.9], [14, 6, 5, 11, 10, 4, 9, 2, 16, 23, 1, 19, 17, 8, 13, 18, 7, 21, 24, 15, 3, 25, 20, 22, 0, 12], 8)\n",
      "*****   LOOP ******\n",
      "([104.03475176207522, 110.61149952713617, 112.88903056002137, 114.82855640549909, 116.89364558434374, 118.79987788553767, 132.85856650811434, 146.54792192590122, 999.9], [14, 6, 5, 11, 10, 4, 9, 2, 16, 23, 1, 19, 17, 8, 13, 18, 7, 21, 24, 15, 3, 25, 20, 22, 0, 12], 9)\n",
      "**** EXIT ****\n",
      "shortest distance: 104.03475176207522\n"
     ]
    }
   ],
   "source": [
    "# 4-6. 繰り返し／終了条件判定\n",
    "# 4-5で得られたパターンを用いて4-2以降のプロセスを繰り返し、⼀定期間最良のパターンが\n",
    "# 更新されなかった場合に停止して そのパターンを結果として出力する\n",
    "\n",
    "first_loop = True\n",
    "while True:\n",
    "    if first_loop:\n",
    "        print('***** FIRST LOOP ******')\n",
    "# 4-1\n",
    "        first_data = creat_first_data()\n",
    "# 4-2,4-3\n",
    "        e_s = evaluate_select(first_data, [999.9], [], 0)\n",
    "# first loop\n",
    "        first_loop = False\n",
    "        update_history = []\n",
    "    else:\n",
    "        print('***** ', ' LOOP ******')\n",
    "# 4-2,4-3\n",
    "        e_s = evaluate_select(test_data, list(e_s[0]), list(e_s[1]), e_s[2])\n",
    "# 4-4\n",
    "    child_sample = create_child(e_s[1])\n",
    "# 4-5\n",
    "    test_data = mutate(child_sample)\n",
    "# print\n",
    "    print(e_s)\n",
    "# 4-6 終了条件 10回同じ最短距離が算出されたら終了\n",
    "    if e_s[2] > 8:\n",
    "        print('**** EXIT ****')\n",
    "        print('shortest distance:', e_s[0][0])\n",
    "        break"
   ]
  },
  {
   "cell_type": "code",
   "execution_count": null,
   "metadata": {},
   "outputs": [],
   "source": []
  }
 ],
 "metadata": {
  "kernelspec": {
   "display_name": "Python 3",
   "language": "python",
   "name": "python3"
  },
  "language_info": {
   "codemirror_mode": {
    "name": "ipython",
    "version": 3
   },
   "file_extension": ".py",
   "mimetype": "text/x-python",
   "name": "python",
   "nbconvert_exporter": "python",
   "pygments_lexer": "ipython3",
   "version": "3.7.3"
  }
 },
 "nbformat": 4,
 "nbformat_minor": 2
}
